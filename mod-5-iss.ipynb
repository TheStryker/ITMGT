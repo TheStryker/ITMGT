{
 "cells": [
  {
   "cell_type": "code",
   "execution_count": 6,
   "id": "a70d0e7a-15a7-4983-9f15-f5ac9c777e7b",
   "metadata": {},
   "outputs": [
    {
     "name": "stdout",
     "output_type": "stream",
     "text": [
      "  Longitude  Latitude   Timestamp\n",
      "0  -53.9354  -51.3021  1657984525\n",
      "1  -52.9045  -51.2174  1657984536\n"
     ]
    },
    {
     "data": {
      "image/png": "[encoded data removed]",
      "text/plain": [
       "<Figure size 432x288 with 1 Axes>"
      ]
     },
     "metadata": {
      "needs_background": "light"
     },
     "output_type": "display_data"
    }
   ],
   "source": [
    "import matplotlib.pyplot as plt\n",
    "import requests\n",
    "import pandas as pd\n",
    "import time\n",
    "import json\n",
    "\n",
    "\n",
    "data = []\n",
    "lon = []\n",
    "lat = []\n",
    "\n",
    "for i in range(0,100):\n",
    "    response = requests.get('http://api.open-notify.org/iss-now.json')\n",
    "    text = response.text\n",
    "    ans = json.loads(text)\n",
    "    \n",
    "    data.append((ans['iss_position']['longitude'], ans['iss_position']['latitude'], ans['timestamp']))\n",
    "    lon.append(ans['iss_position']['longitude'])\n",
    "    lat.append(ans['iss_position']['latitude'])\n",
    "    time.sleep(10)\n",
    "    \n",
    "df = pd.DataFrame(data, columns = ['Longitude', 'Latitude', 'Timestamp'])\n",
    "print(df)\n",
    "\n",
    "plt.plot('Longitude','Latitude', 'b')\n",
    "plt.xlabel(lon)\n",
    "plt.ylabel(lat)\n",
    "plt.title('ISS Latitude over Longitude')\n",
    "plt.show()"
   ]
  },
  {
   "cell_type": "code",
   "execution_count": 7,
   "id": "53ea168a-5ad2-4ce0-8329-4c92c3180b58",
   "metadata": {},
   "outputs": [],
   "source": [
    "df.to_csv('iss-project.csv')"
   ]
  },
  {
   "cell_type": "code",
   "execution_count": 8,
   "id": "7f864140-ff60-4581-85af-41545e4d757e",
   "metadata": {},
   "outputs": [],
   "source": [
    "df=pd.read_csv('iss-project.csv')"
   ]
  },
  {
   "cell_type": "code",
   "execution_count": 9,
   "id": "c21fd663-f940-434e-a475-496bc9b7a764",
   "metadata": {},
   "outputs": [
    {
     "data": {
      "text/html": [
       "<div>\n",
       "<style scoped>\n",
       "    .dataframe tbody tr th:only-of-type {\n",
       "        vertical-align: middle;\n",
       "    }\n",
       "\n",
       "    .dataframe tbody tr th {\n",
       "        vertical-align: top;\n",
       "    }\n",
       "\n",
       "    .dataframe thead th {\n",
       "        text-align: right;\n",
       "    }\n",
       "</style>\n",
       "<table border=\"1\" class=\"dataframe\">\n",
       "  <thead>\n",
       "    <tr style=\"text-align: right;\">\n",
       "      <th></th>\n",
       "      <th>Unnamed: 0</th>\n",
       "      <th>Longitude</th>\n",
       "      <th>Latitude</th>\n",
       "      <th>Timestamp</th>\n",
       "    </tr>\n",
       "  </thead>\n",
       "  <tbody>\n",
       "    <tr>\n",
       "      <th>0</th>\n",
       "      <td>0</td>\n",
       "      <td>-53.9354</td>\n",
       "      <td>-51.3021</td>\n",
       "      <td>1657984525</td>\n",
       "    </tr>\n",
       "    <tr>\n",
       "      <th>1</th>\n",
       "      <td>1</td>\n",
       "      <td>-52.9045</td>\n",
       "      <td>-51.2174</td>\n",
       "      <td>1657984536</td>\n",
       "    </tr>\n",
       "  </tbody>\n",
       "</table>\n",
       "</div>"
      ],
      "text/plain": [
       "   Unnamed: 0  Longitude  Latitude   Timestamp\n",
       "0           0   -53.9354  -51.3021  1657984525\n",
       "1           1   -52.9045  -51.2174  1657984536"
      ]
     },
     "execution_count": 9,
     "metadata": {},
     "output_type": "execute_result"
    }
   ],
   "source": [
    "df"
   ]
  },
  {
   "cell_type": "code",
   "execution_count": null,
   "id": "e0402131-3461-496c-a38c-c63e3f9c333a",
   "metadata": {},
   "outputs": [],
   "source": []
  }
 ],
 "metadata": {
  "kernelspec": {
   "display_name": "Python 3 (ipykernel)",
   "language": "python",
   "name": "python3"
  },
  "language_info": {
   "codemirror_mode": {
    "name": "ipython",
    "version": 3
   },
   "file_extension": ".py",
   "mimetype": "text/x-python",
   "name": "python",
   "nbconvert_exporter": "python",
   "pygments_lexer": "ipython3",
   "version": "3.9.12"
  }
 },
 "nbformat": 4,
 "nbformat_minor": 5
}
